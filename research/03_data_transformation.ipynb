{
 "cells": [
  {
   "cell_type": "code",
   "execution_count": 8,
   "metadata": {},
   "outputs": [
    {
     "data": {
      "text/plain": [
       "'c:\\\\Users\\\\rayjohndp\\\\Desktop\\\\Projects\\\\DS_Python_Portfolio\\\\Telecom_Churn_Project'"
      ]
     },
     "execution_count": 8,
     "metadata": {},
     "output_type": "execute_result"
    }
   ],
   "source": [
    "import os\n",
    "os.chdir(\"../\")\n",
    "%pwd"
   ]
  },
  {
   "cell_type": "code",
   "execution_count": 9,
   "metadata": {},
   "outputs": [
    {
     "data": {
      "text/plain": [
       "'c:\\\\Users\\\\rayjohndp\\\\Desktop\\\\Projects\\\\DS_Python_Portfolio\\\\Telecom_Churn_Project'"
      ]
     },
     "execution_count": 9,
     "metadata": {},
     "output_type": "execute_result"
    }
   ],
   "source": [
    "%pwd"
   ]
  },
  {
   "cell_type": "code",
   "execution_count": 10,
   "metadata": {},
   "outputs": [],
   "source": [
    "##Entity\n",
    "from dataclasses import dataclass\n",
    "from pathlib import Path\n",
    "\n",
    "@dataclass(frozen=True)\n",
    "class DataTransformationConfig:\n",
    "    root_dir: Path\n",
    "    data_path: Path"
   ]
  },
  {
   "cell_type": "code",
   "execution_count": 11,
   "metadata": {},
   "outputs": [],
   "source": [
    "from churnPrediction.constants import *\n",
    "from churnPrediction.utils.common import read_yaml, create_directories"
   ]
  },
  {
   "cell_type": "code",
   "execution_count": 12,
   "metadata": {},
   "outputs": [],
   "source": [
    "class ConfigurationManager:\n",
    "    def __init__(\n",
    "            self,\n",
    "            config_filepath = CONFIG_FILE_PATH,\n",
    "            params_filepath = PARAMS_FILE_PATH,\n",
    "            schema_filepath = SCHEMA_FILE_PATH):\n",
    "\n",
    "            self.config = read_yaml(config_filepath)\n",
    "            self.params = read_yaml(params_filepath)\n",
    "            self.schema = read_yaml(schema_filepath)\n",
    "\n",
    "            create_directories([self.config.artifacts_root])\n",
    "\n",
    "    def get_data_transformation_config(self) -> DataTransformationConfig:\n",
    "          config = self.config.data_transformation\n",
    "\n",
    "          create_directories([config.root_dir])\n",
    "          data_transformation_config = DataTransformationConfig(\n",
    "                root_dir = config.root_dir,\n",
    "                data_path = config.data_path\n",
    "          )\n",
    "          return data_transformation_config\n",
    "\n",
    "\n"
   ]
  },
  {
   "cell_type": "code",
   "execution_count": 13,
   "metadata": {},
   "outputs": [],
   "source": [
    "import os\n",
    "from churnPrediction import logger\n",
    "from sklearn.model_selection import train_test_split\n",
    "import pandas as pd\n",
    "import numpy as np\n",
    "from sklearn.preprocessing import OneHotEncoder, StandardScaler\n",
    "from sklearn.compose import ColumnTransformer\n",
    "from imblearn.over_sampling import SMOTE\n",
    "import numpy as np\n"
   ]
  },
  {
   "cell_type": "code",
   "execution_count": 27,
   "metadata": {},
   "outputs": [],
   "source": [
    "class DataTransformation:\n",
    "    def __init__(self, config:DataTransformationConfig):\n",
    "        self.config = config\n",
    "        self.raw_data = pd.read_excel(self.config.data_path)\n",
    "\n",
    "    def ColumnConvert(self):\n",
    "\n",
    "        self.raw_data[\"SeniorCitizen\"] = self.raw_data[\"SeniorCitizen\"].astype('category')\n",
    "\n",
    "        self.raw_data[\"TotalCharges\"] = np.where(self.raw_data[\"TotalCharges\"] == \" \",\"0\",self.raw_data[\"TotalCharges\"])\n",
    "        self.raw_data[\"TotalCharges\"] = self.raw_data[\"TotalCharges\"].astype(\"float\")\n",
    "        logger.info(\"Converting Columns to Correct Data Format\")\n",
    "\n",
    "    def XYDataSets(self):\n",
    "        self.X = self.raw_data.drop(columns=['customerID','Churn'],axis = 1)\n",
    "        self.y = self.raw_data['Churn']\n",
    "\n",
    "        logger.info(\"X and Y Data object Created\")\n",
    "\n",
    "\n",
    "    def ColumnPreProcess(self):\n",
    "        num_feature = self.X.select_dtypes(exclude='object').columns\n",
    "        cat_feature = self.X.select_dtypes(include = 'object').columns\n",
    "\n",
    "        num_transformer = StandardScaler()\n",
    "        cat_transformer = OneHotEncoder()\n",
    "\n",
    "        preprocessor = ColumnTransformer(\n",
    "            [('OneHotEncoder',cat_transformer, cat_feature),\n",
    "            ('StandardScaler', num_transformer, num_feature)]\n",
    "        )\n",
    "        \n",
    "        self.X = preprocessor.fit_transform(self.X)\n",
    "\n",
    "        logger.info(\"Numeric Columns Scaled || Categorical Columns Dummy Encoded\")\n",
    "\n",
    "\n",
    "    def ClassBalancing(self):\n",
    "        sm = SMOTE(random_state = 42)\n",
    "        self.X_smote, self.y_smote = sm.fit_resample(self.X, self.y)\n",
    "\n",
    "        logger.info(\"SMOTE Class Balancing Applied\")\n",
    "\n",
    "    \n",
    "\n",
    "\n",
    "    def train_test_splitting(self):\n",
    "\n",
    "        data = self.raw_data\n",
    "        X_train, X_test, y_train, y_test = train_test_split(self.X_smote, self.y_smote, test_size = 0.3, random_state=720)\n",
    "\n",
    "        #X_train.to_csv(os.path.join(self.config.root_dir,\"X_train.csv\"), index = False)\n",
    "        np.savetxt(os.path.join(self.config.root_dir,\"X_train.csv\"), X_train, delimiter=\",\", fmt='%s')\n",
    "        #X_test.to_csv(os.path.join(self.config.root.dir,\"X_test.csv\"), index = False)\n",
    "        np.savetxt(os.path.join(self.config.root_dir,\"X_test.csv\"), X_test, delimiter=\",\", fmt='%s')\n",
    "        #y_train.to_csv(os.path.join(self.config.root.dir,\"y_train.csv\"), index = False)\n",
    "        np.savetxt(os.path.join(self.config.root_dir,\"y_train.csv\"), y_train, delimiter=\",\", fmt='%s')\n",
    "        #y_test.to_csv(os.path.join(self.config.root.dir,\"y_test.csv\"), index = False)\n",
    "        np.savetxt(os.path.join(self.config.root_dir,\"y_test.csv\"), y_test, delimiter=\",\", fmt='%s')\n",
    "\n",
    "        logger.info(\"Splitted data into training and test sets\")\n",
    "        logger.info(X_train.shape)\n",
    "        logger.info(X_test.shape)\n",
    "\n",
    "        print(X_train.shape)\n",
    "        print(X_test.shape)\n",
    "\n",
    "\n"
   ]
  },
  {
   "cell_type": "code",
   "execution_count": 28,
   "metadata": {},
   "outputs": [
    {
     "name": "stdout",
     "output_type": "stream",
     "text": [
      "[2024-06-13 12:57:03,670: INFO: common: yaml file: config\\config.yaml loaded successfully]\n",
      "[2024-06-13 12:57:03,672: INFO: common: yaml file: params.yaml loaded successfully]\n",
      "[2024-06-13 12:57:03,674: INFO: common: yaml file: schema.yaml loaded successfully]\n",
      "[2024-06-13 12:57:03,675: INFO: common: created directory at: artifacts]\n",
      "[2024-06-13 12:57:03,676: INFO: common: created directory at: artifacts/data_transformation]\n",
      "[2024-06-13 12:57:05,068: INFO: 2930439476: Converting Columns to Correct Data Format]\n",
      "[2024-06-13 12:57:05,069: INFO: 2930439476: X and Y Data object Created]\n",
      "[2024-06-13 12:57:05,093: INFO: 2930439476: Numeric Columns Scaled || Categorical Columns Dummy Encoded]\n",
      "[2024-06-13 12:57:05,114: INFO: 2930439476: SMOTE Class Balancing Applied]\n",
      "[2024-06-13 12:57:05,265: INFO: 2930439476: Splitted data into training and test sets]\n",
      "[2024-06-13 12:57:05,265: INFO: 2930439476: (7243, 47)]\n",
      "[2024-06-13 12:57:05,267: INFO: 2930439476: (3105, 47)]\n",
      "(7243, 47)\n",
      "(3105, 47)\n"
     ]
    }
   ],
   "source": [
    "#Define Pipeline\n",
    "\n",
    "try:\n",
    "    config = ConfigurationManager()\n",
    "    data_transformation_config = config.get_data_transformation_config()\n",
    "    data_transformation = DataTransformation(config=data_transformation_config)\n",
    "    data_transformation.ColumnConvert()\n",
    "    data_transformation.XYDataSets()\n",
    "    data_transformation.ColumnPreProcess()\n",
    "    data_transformation.ClassBalancing()\n",
    "    data_transformation.train_test_splitting()\n",
    "\n",
    "except Exception as e:\n",
    "    raise e\n",
    "\n",
    "\n",
    "    "
   ]
  },
  {
   "cell_type": "code",
   "execution_count": 22,
   "metadata": {},
   "outputs": [],
   "source": [
    "import numpy as np\n",
    "a = np.asarray([ [1,2,3], [4,5,6], [7,8,9] ])"
   ]
  },
  {
   "cell_type": "code",
   "execution_count": 24,
   "metadata": {},
   "outputs": [],
   "source": [
    "#a.to_csv(\"C:\\\\Users\\\\rayjohndp\\\\Desktop\\\\Projects\\\\DS_Python_Portfolio\\\\Telecom_Churn_Project\\\\artifacts\\\\sample.csv\", index = False)\n",
    "np.savetxt(\"C:\\\\Users\\\\rayjohndp\\\\Desktop\\\\Projects\\\\DS_Python_Portfolio\\\\Telecom_Churn_Project\\\\artifacts\\\\sample.csv\", a, delimiter=\",\")"
   ]
  }
 ],
 "metadata": {
  "kernelspec": {
   "display_name": "ML_Churn_Pred",
   "language": "python",
   "name": "python3"
  },
  "language_info": {
   "codemirror_mode": {
    "name": "ipython",
    "version": 3
   },
   "file_extension": ".py",
   "mimetype": "text/x-python",
   "name": "python",
   "nbconvert_exporter": "python",
   "pygments_lexer": "ipython3",
   "version": "3.11.7"
  }
 },
 "nbformat": 4,
 "nbformat_minor": 2
}
